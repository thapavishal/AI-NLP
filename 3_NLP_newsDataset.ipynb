{
  "nbformat": 4,
  "nbformat_minor": 0,
  "metadata": {
    "colab": {
      "name": "NLP_newsDataset.ipynb",
      "provenance": [],
      "collapsed_sections": []
    },
    "kernelspec": {
      "name": "python3",
      "display_name": "Python 3"
    }
  },
  "cells": [
    {
      "cell_type": "code",
      "metadata": {
        "colab": {
          "base_uri": "https://localhost:8080/",
          "height": 415
        },
        "id": "Nz4fT2VMeGBY",
        "outputId": "2ad9f52f-4e03-47d7-8fdf-532feec9ad81"
      },
      "source": [
        "import pandas as pd\r\n",
        "df = pd.read_csv('/content/drive/MyDrive/Online_news_scrapping/news_data2.csv')\r\n",
        "df"
      ],
      "execution_count": null,
      "outputs": [
        {
          "output_type": "execute_result",
          "data": {
            "text/html": [
              "<div>\n",
              "<style scoped>\n",
              "    .dataframe tbody tr th:only-of-type {\n",
              "        vertical-align: middle;\n",
              "    }\n",
              "\n",
              "    .dataframe tbody tr th {\n",
              "        vertical-align: top;\n",
              "    }\n",
              "\n",
              "    .dataframe thead th {\n",
              "        text-align: right;\n",
              "    }\n",
              "</style>\n",
              "<table border=\"1\" class=\"dataframe\">\n",
              "  <thead>\n",
              "    <tr style=\"text-align: right;\">\n",
              "      <th></th>\n",
              "      <th>Unnamed: 0</th>\n",
              "      <th>Category</th>\n",
              "      <th>News</th>\n",
              "    </tr>\n",
              "  </thead>\n",
              "  <tbody>\n",
              "    <tr>\n",
              "      <th>0</th>\n",
              "      <td>0</td>\n",
              "      <td>Political</td>\n",
              "      <td>When a Twitter user defended Prime Minister KP...</td>\n",
              "    </tr>\n",
              "    <tr>\n",
              "      <th>1</th>\n",
              "      <td>1</td>\n",
              "      <td>Political</td>\n",
              "      <td>Kathmandu, January 7Police in Kathmandu have a...</td>\n",
              "    </tr>\n",
              "    <tr>\n",
              "      <th>2</th>\n",
              "      <td>2</td>\n",
              "      <td>Political</td>\n",
              "      <td>Saptari, January 7Some personnel of the Indian...</td>\n",
              "    </tr>\n",
              "    <tr>\n",
              "      <th>3</th>\n",
              "      <td>3</td>\n",
              "      <td>Political</td>\n",
              "      <td>Kathmandu, January 7Nepal’s Minister for Forei...</td>\n",
              "    </tr>\n",
              "    <tr>\n",
              "      <th>4</th>\n",
              "      <td>4</td>\n",
              "      <td>Political</td>\n",
              "      <td>Kathmandu, January 6As many as 12 persons and ...</td>\n",
              "    </tr>\n",
              "    <tr>\n",
              "      <th>...</th>\n",
              "      <td>...</td>\n",
              "      <td>...</td>\n",
              "      <td>...</td>\n",
              "    </tr>\n",
              "    <tr>\n",
              "      <th>235</th>\n",
              "      <td>235</td>\n",
              "      <td>Travel</td>\n",
              "      <td>Multiethnic Nepal is widely popular among tour...</td>\n",
              "    </tr>\n",
              "    <tr>\n",
              "      <th>236</th>\n",
              "      <td>236</td>\n",
              "      <td>Travel</td>\n",
              "      <td>Kathmandu, October 23A Bahraini expedition led...</td>\n",
              "    </tr>\n",
              "    <tr>\n",
              "      <th>237</th>\n",
              "      <td>237</td>\n",
              "      <td>Travel</td>\n",
              "      <td>Kathmandu, October 22The Khumbu Pasanglhamu ru...</td>\n",
              "    </tr>\n",
              "    <tr>\n",
              "      <th>238</th>\n",
              "      <td>238</td>\n",
              "      <td>Travel</td>\n",
              "      <td>Kathmandu, October 16Ghandruk, a village in Ka...</td>\n",
              "    </tr>\n",
              "    <tr>\n",
              "      <th>239</th>\n",
              "      <td>239</td>\n",
              "      <td>Travel</td>\n",
              "      <td>Kathmandu, October 16In yet another good news ...</td>\n",
              "    </tr>\n",
              "  </tbody>\n",
              "</table>\n",
              "<p>240 rows × 3 columns</p>\n",
              "</div>"
            ],
            "text/plain": [
              "     Unnamed: 0   Category                                               News\n",
              "0             0  Political  When a Twitter user defended Prime Minister KP...\n",
              "1             1  Political  Kathmandu, January 7Police in Kathmandu have a...\n",
              "2             2  Political  Saptari, January 7Some personnel of the Indian...\n",
              "3             3  Political  Kathmandu, January 7Nepal’s Minister for Forei...\n",
              "4             4  Political  Kathmandu, January 6As many as 12 persons and ...\n",
              "..          ...        ...                                                ...\n",
              "235         235     Travel  Multiethnic Nepal is widely popular among tour...\n",
              "236         236     Travel  Kathmandu, October 23A Bahraini expedition led...\n",
              "237         237     Travel  Kathmandu, October 22The Khumbu Pasanglhamu ru...\n",
              "238         238     Travel  Kathmandu, October 16Ghandruk, a village in Ka...\n",
              "239         239     Travel  Kathmandu, October 16In yet another good news ...\n",
              "\n",
              "[240 rows x 3 columns]"
            ]
          },
          "metadata": {
            "tags": []
          },
          "execution_count": 2
        }
      ]
    },
    {
      "cell_type": "code",
      "metadata": {
        "colab": {
          "base_uri": "https://localhost:8080/",
          "height": 415
        },
        "id": "kenh2vYVAfKD",
        "outputId": "a4ceb727-42d2-4665-a2bc-ac42622cc0c7"
      },
      "source": [
        "df = pd.read_csv('/content/drive/MyDrive/Online_news_scrapping/news_data2.csv', index_col=0)\r\n",
        "df"
      ],
      "execution_count": null,
      "outputs": [
        {
          "output_type": "execute_result",
          "data": {
            "text/html": [
              "<div>\n",
              "<style scoped>\n",
              "    .dataframe tbody tr th:only-of-type {\n",
              "        vertical-align: middle;\n",
              "    }\n",
              "\n",
              "    .dataframe tbody tr th {\n",
              "        vertical-align: top;\n",
              "    }\n",
              "\n",
              "    .dataframe thead th {\n",
              "        text-align: right;\n",
              "    }\n",
              "</style>\n",
              "<table border=\"1\" class=\"dataframe\">\n",
              "  <thead>\n",
              "    <tr style=\"text-align: right;\">\n",
              "      <th></th>\n",
              "      <th>Category</th>\n",
              "      <th>News</th>\n",
              "    </tr>\n",
              "  </thead>\n",
              "  <tbody>\n",
              "    <tr>\n",
              "      <th>0</th>\n",
              "      <td>Political</td>\n",
              "      <td>When a Twitter user defended Prime Minister KP...</td>\n",
              "    </tr>\n",
              "    <tr>\n",
              "      <th>1</th>\n",
              "      <td>Political</td>\n",
              "      <td>Kathmandu, January 7Police in Kathmandu have a...</td>\n",
              "    </tr>\n",
              "    <tr>\n",
              "      <th>2</th>\n",
              "      <td>Political</td>\n",
              "      <td>Saptari, January 7Some personnel of the Indian...</td>\n",
              "    </tr>\n",
              "    <tr>\n",
              "      <th>3</th>\n",
              "      <td>Political</td>\n",
              "      <td>Kathmandu, January 7Nepal’s Minister for Forei...</td>\n",
              "    </tr>\n",
              "    <tr>\n",
              "      <th>4</th>\n",
              "      <td>Political</td>\n",
              "      <td>Kathmandu, January 6As many as 12 persons and ...</td>\n",
              "    </tr>\n",
              "    <tr>\n",
              "      <th>...</th>\n",
              "      <td>...</td>\n",
              "      <td>...</td>\n",
              "    </tr>\n",
              "    <tr>\n",
              "      <th>235</th>\n",
              "      <td>Travel</td>\n",
              "      <td>Multiethnic Nepal is widely popular among tour...</td>\n",
              "    </tr>\n",
              "    <tr>\n",
              "      <th>236</th>\n",
              "      <td>Travel</td>\n",
              "      <td>Kathmandu, October 23A Bahraini expedition led...</td>\n",
              "    </tr>\n",
              "    <tr>\n",
              "      <th>237</th>\n",
              "      <td>Travel</td>\n",
              "      <td>Kathmandu, October 22The Khumbu Pasanglhamu ru...</td>\n",
              "    </tr>\n",
              "    <tr>\n",
              "      <th>238</th>\n",
              "      <td>Travel</td>\n",
              "      <td>Kathmandu, October 16Ghandruk, a village in Ka...</td>\n",
              "    </tr>\n",
              "    <tr>\n",
              "      <th>239</th>\n",
              "      <td>Travel</td>\n",
              "      <td>Kathmandu, October 16In yet another good news ...</td>\n",
              "    </tr>\n",
              "  </tbody>\n",
              "</table>\n",
              "<p>240 rows × 2 columns</p>\n",
              "</div>"
            ],
            "text/plain": [
              "      Category                                               News\n",
              "0    Political  When a Twitter user defended Prime Minister KP...\n",
              "1    Political  Kathmandu, January 7Police in Kathmandu have a...\n",
              "2    Political  Saptari, January 7Some personnel of the Indian...\n",
              "3    Political  Kathmandu, January 7Nepal’s Minister for Forei...\n",
              "4    Political  Kathmandu, January 6As many as 12 persons and ...\n",
              "..         ...                                                ...\n",
              "235     Travel  Multiethnic Nepal is widely popular among tour...\n",
              "236     Travel  Kathmandu, October 23A Bahraini expedition led...\n",
              "237     Travel  Kathmandu, October 22The Khumbu Pasanglhamu ru...\n",
              "238     Travel  Kathmandu, October 16Ghandruk, a village in Ka...\n",
              "239     Travel  Kathmandu, October 16In yet another good news ...\n",
              "\n",
              "[240 rows x 2 columns]"
            ]
          },
          "metadata": {
            "tags": []
          },
          "execution_count": 3
        }
      ]
    },
    {
      "cell_type": "code",
      "metadata": {
        "colab": {
          "base_uri": "https://localhost:8080/"
        },
        "id": "yiXvODXqB3re",
        "outputId": "4d98a605-323c-48c2-93e5-36168b2da319"
      },
      "source": [
        "data_len = len(df)\r\n",
        "train_data = int(data_len*0.8) \r\n",
        "print(train_data)\r\n",
        "test_data = data_len - train_data\r\n",
        "print(test_data)\r\n",
        "data_len"
      ],
      "execution_count": null,
      "outputs": [
        {
          "output_type": "stream",
          "text": [
            "192\n",
            "48\n"
          ],
          "name": "stdout"
        },
        {
          "output_type": "execute_result",
          "data": {
            "text/plain": [
              "240"
            ]
          },
          "metadata": {
            "tags": []
          },
          "execution_count": 4
        }
      ]
    },
    {
      "cell_type": "code",
      "metadata": {
        "id": "AiwsYOzjB_77"
      },
      "source": [
        "train_tag = df['Category'][:train_data]\r\n",
        "train_post = df['News'][:train_data]\r\n",
        "\r\n",
        "test_tag = df['Category'][train_data:]\r\n",
        "test_post = df['News'][train_data:]"
      ],
      "execution_count": null,
      "outputs": []
    },
    {
      "cell_type": "code",
      "metadata": {
        "id": "VWbFRVguCCa-"
      },
      "source": [
        "import numpy as np\r\n",
        "from keras.layers import Activation, Dense, Dropout\r\n",
        "from keras.models import Sequential\r\n",
        "from sklearn.preprocessing import LabelBinarizer\r\n",
        "from keras.preprocessing.text import Tokenizer"
      ],
      "execution_count": null,
      "outputs": []
    },
    {
      "cell_type": "code",
      "metadata": {
        "id": "a_1gaNr2CQXF"
      },
      "source": [
        "num_labels = 4       \r\n",
        "vocab_size = 150    \r\n",
        "batch_size = 50\r\n",
        "\r\n",
        "tokenizer = Tokenizer(num_words = vocab_size)\r\n",
        "tokenizer.fit_on_texts(train_post)\r\n",
        "\r\n",
        "x_train = tokenizer.texts_to_matrix(train_post,mode='tfidf')\r\n",
        "x_test = tokenizer.texts_to_matrix(test_post,mode ='tfidf')\r\n",
        "\r\n",
        "encoder = LabelBinarizer()\r\n",
        "encoder.fit(train_tag)\r\n",
        "\r\n",
        "y_train = encoder.transform(train_tag)\r\n",
        "y_test = encoder.transform(test_tag)"
      ],
      "execution_count": null,
      "outputs": []
    },
    {
      "cell_type": "code",
      "metadata": {
        "colab": {
          "base_uri": "https://localhost:8080/"
        },
        "id": "-Nn0Z1RNCdkp",
        "outputId": "66d07ab1-7958-476f-e0b6-b9b7ccec4961"
      },
      "source": [
        "model = Sequential()\r\n",
        "model.add(Dense(512,input_shape = (vocab_size,)))\r\n",
        "model.add(Activation('relu'))\r\n",
        "model.add(Dropout(0.3))\r\n",
        "\r\n",
        "model.add(Dense(256))\r\n",
        "model.add(Activation('relu'))\r\n",
        "model.add(Dropout(0.3))\r\n",
        "\r\n",
        "model.add(Dense(num_labels))\r\n",
        "model.add(Activation('softmax'))\r\n",
        "model.summary()"
      ],
      "execution_count": null,
      "outputs": [
        {
          "output_type": "stream",
          "text": [
            "Model: \"sequential\"\n",
            "_________________________________________________________________\n",
            "Layer (type)                 Output Shape              Param #   \n",
            "=================================================================\n",
            "dense (Dense)                (None, 512)               77312     \n",
            "_________________________________________________________________\n",
            "activation (Activation)      (None, 512)               0         \n",
            "_________________________________________________________________\n",
            "dropout (Dropout)            (None, 512)               0         \n",
            "_________________________________________________________________\n",
            "dense_1 (Dense)              (None, 256)               131328    \n",
            "_________________________________________________________________\n",
            "activation_1 (Activation)    (None, 256)               0         \n",
            "_________________________________________________________________\n",
            "dropout_1 (Dropout)          (None, 256)               0         \n",
            "_________________________________________________________________\n",
            "dense_2 (Dense)              (None, 4)                 1028      \n",
            "_________________________________________________________________\n",
            "activation_2 (Activation)    (None, 4)                 0         \n",
            "=================================================================\n",
            "Total params: 209,668\n",
            "Trainable params: 209,668\n",
            "Non-trainable params: 0\n",
            "_________________________________________________________________\n"
          ],
          "name": "stdout"
        }
      ]
    },
    {
      "cell_type": "code",
      "metadata": {
        "id": "NYijrJVICgGv"
      },
      "source": [
        "model.compile(loss = 'categorical_crossentropy',\r\n",
        "             optimizer = 'adam',\r\n",
        "             metrics = ['accuracy'])"
      ],
      "execution_count": null,
      "outputs": []
    },
    {
      "cell_type": "code",
      "metadata": {
        "colab": {
          "base_uri": "https://localhost:8080/"
        },
        "id": "_RIYKyPuCj8b",
        "outputId": "13de9b2d-34cf-432d-cc9d-8e28afaf03a0"
      },
      "source": [
        "history = model.fit(x_train,y_train,epochs = 25,validation_split = 0.1)"
      ],
      "execution_count": null,
      "outputs": [
        {
          "output_type": "stream",
          "text": [
            "Epoch 1/25\n",
            "6/6 [==============================] - 1s 83ms/step - loss: 1.0505 - accuracy: 0.5801 - val_loss: 3.8853 - val_accuracy: 0.3000\n",
            "Epoch 2/25\n",
            "6/6 [==============================] - 0s 9ms/step - loss: 0.3095 - accuracy: 0.8957 - val_loss: 5.1271 - val_accuracy: 0.3000\n",
            "Epoch 3/25\n",
            "6/6 [==============================] - 0s 9ms/step - loss: 0.0955 - accuracy: 0.9875 - val_loss: 5.9639 - val_accuracy: 0.3000\n",
            "Epoch 4/25\n",
            "6/6 [==============================] - 0s 9ms/step - loss: 0.0531 - accuracy: 0.9881 - val_loss: 6.6359 - val_accuracy: 0.3000\n",
            "Epoch 5/25\n",
            "6/6 [==============================] - 0s 11ms/step - loss: 0.0202 - accuracy: 1.0000 - val_loss: 7.0421 - val_accuracy: 0.3000\n",
            "Epoch 6/25\n",
            "6/6 [==============================] - 0s 10ms/step - loss: 0.0074 - accuracy: 1.0000 - val_loss: 7.2815 - val_accuracy: 0.3000\n",
            "Epoch 7/25\n",
            "6/6 [==============================] - 0s 9ms/step - loss: 0.0067 - accuracy: 1.0000 - val_loss: 7.4767 - val_accuracy: 0.3000\n",
            "Epoch 8/25\n",
            "6/6 [==============================] - 0s 9ms/step - loss: 0.0091 - accuracy: 1.0000 - val_loss: 7.5698 - val_accuracy: 0.3000\n",
            "Epoch 9/25\n",
            "6/6 [==============================] - 0s 9ms/step - loss: 0.0044 - accuracy: 1.0000 - val_loss: 7.7215 - val_accuracy: 0.3000\n",
            "Epoch 10/25\n",
            "6/6 [==============================] - 0s 9ms/step - loss: 0.0016 - accuracy: 1.0000 - val_loss: 7.8673 - val_accuracy: 0.3000\n",
            "Epoch 11/25\n",
            "6/6 [==============================] - 0s 9ms/step - loss: 0.0019 - accuracy: 1.0000 - val_loss: 7.9914 - val_accuracy: 0.3000\n",
            "Epoch 12/25\n",
            "6/6 [==============================] - 0s 10ms/step - loss: 0.0016 - accuracy: 1.0000 - val_loss: 8.0933 - val_accuracy: 0.3000\n",
            "Epoch 13/25\n",
            "6/6 [==============================] - 0s 10ms/step - loss: 0.0032 - accuracy: 1.0000 - val_loss: 8.1913 - val_accuracy: 0.3000\n",
            "Epoch 14/25\n",
            "6/6 [==============================] - 0s 9ms/step - loss: 0.0017 - accuracy: 1.0000 - val_loss: 8.2218 - val_accuracy: 0.3000\n",
            "Epoch 15/25\n",
            "6/6 [==============================] - 0s 10ms/step - loss: 0.0018 - accuracy: 1.0000 - val_loss: 8.2788 - val_accuracy: 0.3000\n",
            "Epoch 16/25\n",
            "6/6 [==============================] - 0s 29ms/step - loss: 0.0010 - accuracy: 1.0000 - val_loss: 8.3284 - val_accuracy: 0.3000\n",
            "Epoch 17/25\n",
            "6/6 [==============================] - 0s 9ms/step - loss: 6.2570e-04 - accuracy: 1.0000 - val_loss: 8.3644 - val_accuracy: 0.3000\n",
            "Epoch 18/25\n",
            "6/6 [==============================] - 0s 9ms/step - loss: 0.0014 - accuracy: 1.0000 - val_loss: 8.4199 - val_accuracy: 0.3000\n",
            "Epoch 19/25\n",
            "6/6 [==============================] - 0s 9ms/step - loss: 0.0010 - accuracy: 1.0000 - val_loss: 8.4601 - val_accuracy: 0.3000\n",
            "Epoch 20/25\n",
            "6/6 [==============================] - 0s 9ms/step - loss: 9.2463e-04 - accuracy: 1.0000 - val_loss: 8.4926 - val_accuracy: 0.3000\n",
            "Epoch 21/25\n",
            "6/6 [==============================] - 0s 9ms/step - loss: 6.8844e-04 - accuracy: 1.0000 - val_loss: 8.5275 - val_accuracy: 0.3000\n",
            "Epoch 22/25\n",
            "6/6 [==============================] - 0s 10ms/step - loss: 7.5126e-04 - accuracy: 1.0000 - val_loss: 8.5471 - val_accuracy: 0.3000\n",
            "Epoch 23/25\n",
            "6/6 [==============================] - 0s 9ms/step - loss: 0.0011 - accuracy: 1.0000 - val_loss: 8.5224 - val_accuracy: 0.3000\n",
            "Epoch 24/25\n",
            "6/6 [==============================] - 0s 9ms/step - loss: 3.7603e-04 - accuracy: 1.0000 - val_loss: 8.5193 - val_accuracy: 0.3000\n",
            "Epoch 25/25\n",
            "6/6 [==============================] - 0s 9ms/step - loss: 4.3414e-04 - accuracy: 1.0000 - val_loss: 8.5389 - val_accuracy: 0.3000\n"
          ],
          "name": "stdout"
        }
      ]
    },
    {
      "cell_type": "code",
      "metadata": {
        "id": "aZG_-j7yCmjz"
      },
      "source": [
        "# saving the model\r\n",
        "\r\n",
        "import pickle\r\n",
        "model.save('/content/drive/MyDrive/Online_news_scrapping/online_news.h5')\r\n",
        "with open('tokenizer.pickle','wb') as f:\r\n",
        "  pickle.dump(tokenizer,f,protocol = pickle.HIGHEST_PROTOCOL)\r\n",
        "# pickle chai serialization ko lagi chahincha"
      ],
      "execution_count": null,
      "outputs": []
    },
    {
      "cell_type": "code",
      "metadata": {
        "id": "RY8xl0qFDQW0"
      },
      "source": [
        "# loading the model\r\n",
        "from keras.models import load_model\r\n",
        "model = load_model('/content/drive/MyDrive/Online_news_scrapping/online_news.h5')\r\n",
        "\r\n",
        "# tokenizer = Tokenizer()\r\n",
        "# aba read mode ma kholne\r\n",
        "# model testing ko lagi\r\n",
        "with open('tokenizer.pickle','rb') as f:\r\n",
        "  tokenizers = pickle.load(f)"
      ],
      "execution_count": null,
      "outputs": []
    },
    {
      "cell_type": "code",
      "metadata": {
        "colab": {
          "base_uri": "https://localhost:8080/"
        },
        "id": "1_uVjcvvDbbk",
        "outputId": "599b755f-e776-4f51-ea49-4646d52023fa"
      },
      "source": [
        "encoder.classes_"
      ],
      "execution_count": null,
      "outputs": [
        {
          "output_type": "execute_result",
          "data": {
            "text/plain": [
              "array(['Business', 'Lifestyle', 'Political', 'Travel'], dtype='<U9')"
            ]
          },
          "metadata": {
            "tags": []
          },
          "execution_count": 13
        }
      ]
    },
    {
      "cell_type": "code",
      "metadata": {
        "id": "_6Ee5ZWlDekz"
      },
      "source": [
        "labels = np.array(['Business', 'Lifestyle', 'Political', 'Travel'])"
      ],
      "execution_count": null,
      "outputs": []
    },
    {
      "cell_type": "code",
      "metadata": {
        "id": "83ZOqYMVDuhh"
      },
      "source": [
        "#test_files = ['/content/drive/MyDrive/Online_news_scrapping/business_news.txt']\r\n",
        "test_files = ['/content/drive/MyDrive/Online_news_scrapping/political_news.txt']\r\n"
      ],
      "execution_count": null,
      "outputs": []
    },
    {
      "cell_type": "code",
      "metadata": {
        "colab": {
          "base_uri": "https://localhost:8080/"
        },
        "id": "wiM6_nR_EVX7",
        "outputId": "42795111-e677-47ab-c1b6-67bbb6dd17ca"
      },
      "source": [
        "from pathlib import Path\r\n",
        "import pandas as pd\r\n",
        "x_data = []\r\n",
        "for text_file in test_files:\r\n",
        "  text_file_data = Path(text_file).read_text()\r\n",
        "  x_data.append(text_file_data)\r\n",
        "\r\n",
        "x_data_series = pd.Series(x_data)\r\n",
        "#x_data_series\r\n",
        "# yesma queue ma huncha ra teslai tokenize garnu parcha\r\n",
        "\r\n",
        "x_tokenized = tokenizer.texts_to_matrix(x_data_series, mode = 'tfidf')\r\n",
        "x_tokenized"
      ],
      "execution_count": null,
      "outputs": [
        {
          "output_type": "execute_result",
          "data": {
            "text/plain": [
              "array([[0.        , 1.44920332, 1.17360019, 0.69055315, 0.70914752,\n",
              "        1.51746749, 1.51152363, 0.        , 0.        , 0.74357803,\n",
              "        0.902455  , 0.        , 0.        , 1.02165125, 0.        ,\n",
              "        0.        , 0.        , 0.        , 0.9070171 , 0.        ,\n",
              "        0.        , 0.88905758, 0.        , 0.        , 0.        ,\n",
              "        0.        , 0.        , 1.03977179, 0.        , 0.        ,\n",
              "        0.        , 0.        , 0.        , 0.        , 0.        ,\n",
              "        0.        , 0.        , 0.        , 0.        , 0.        ,\n",
              "        1.16530366, 0.        , 0.        , 1.00994665, 0.        ,\n",
              "        0.        , 0.        , 0.        , 1.18136625, 0.        ,\n",
              "        0.        , 0.        , 0.        , 0.        , 0.        ,\n",
              "        0.        , 0.        , 0.        , 0.        , 0.        ,\n",
              "        0.        , 0.        , 0.        , 0.        , 0.        ,\n",
              "        1.34117393, 0.        , 0.        , 0.        , 0.        ,\n",
              "        0.        , 0.        , 0.        , 0.        , 0.        ,\n",
              "        0.        , 0.        , 0.        , 1.02761474, 0.        ,\n",
              "        0.        , 0.        , 0.        , 0.        , 0.        ,\n",
              "        0.        , 0.        , 0.        , 0.        , 0.        ,\n",
              "        0.        , 0.        , 0.        , 0.        , 0.        ,\n",
              "        0.        , 0.        , 0.        , 0.        , 0.        ,\n",
              "        0.        , 0.        , 0.        , 0.        , 0.        ,\n",
              "        0.        , 0.        , 0.        , 0.        , 0.        ,\n",
              "        0.        , 0.        , 0.        , 0.        , 0.        ,\n",
              "        0.        , 0.        , 0.        , 0.        , 0.        ,\n",
              "        1.54592451, 0.        , 0.        , 0.        , 0.        ,\n",
              "        0.        , 0.        , 0.        , 0.        , 0.        ,\n",
              "        0.        , 0.        , 0.        , 0.        , 0.        ,\n",
              "        0.        , 0.        , 0.        , 0.        , 0.        ,\n",
              "        0.        , 0.        , 0.        , 1.6983854 , 0.        ,\n",
              "        0.        , 0.        , 0.        , 0.        , 0.        ]])"
            ]
          },
          "metadata": {
            "tags": []
          },
          "execution_count": 21
        }
      ]
    },
    {
      "cell_type": "code",
      "metadata": {
        "colab": {
          "base_uri": "https://localhost:8080/"
        },
        "id": "0i801tH8EZig",
        "outputId": "47ed8f87-353d-42bb-d2df-95ba00eeb1c4"
      },
      "source": [
        "# for prediction\r\n",
        "for x_t in x_tokenized:\r\n",
        "  prediction = model.predict(np.array([x_t]))\r\n",
        "  print(prediction)\r\n",
        "  predicted_label = np.argmax(prediction)\r\n",
        "  print(predicted_label)\r\n",
        "  predicted_label = labels[np.argmax(prediction)]\r\n",
        "  print(predicted_label)"
      ],
      "execution_count": null,
      "outputs": [
        {
          "output_type": "stream",
          "text": [
            "[[0.7971865  0.05375449 0.13469364 0.01436536]]\n",
            "0\n",
            "Business\n"
          ],
          "name": "stdout"
        }
      ]
    },
    {
      "cell_type": "code",
      "metadata": {
        "id": "xLFQDahSEfGd"
      },
      "source": [
        ""
      ],
      "execution_count": null,
      "outputs": []
    }
  ]
}