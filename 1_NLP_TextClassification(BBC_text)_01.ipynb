{
  "nbformat": 4,
  "nbformat_minor": 0,
  "metadata": {
    "colab": {
      "name": "NLP_TextClassification(BBC-text)-01.ipynb",
      "provenance": [],
      "collapsed_sections": []
    },
    "kernelspec": {
      "name": "python3",
      "display_name": "Python 3"
    }
  },
  "cells": [
    {
      "cell_type": "code",
      "metadata": {
        "id": "f-lDpLg2NA2-",
        "colab": {
          "base_uri": "https://localhost:8080/",
          "height": 1000
        },
        "outputId": "079e25ee-c5c2-4a18-ddfd-80bd08853c3c"
      },
      "source": [
        "import pandas as pd\r\n",
        "df = pd.read_csv('/content/drive/MyDrive/text classification/bbc-text.csv')\r\n",
        "df"
      ],
      "execution_count": null,
      "outputs": [
        {
          "output_type": "execute_result",
          "data": {
            "text/html": [
              "<div>\n",
              "<style scoped>\n",
              "    .dataframe tbody tr th:only-of-type {\n",
              "        vertical-align: middle;\n",
              "    }\n",
              "\n",
              "    .dataframe tbody tr th {\n",
              "        vertical-align: top;\n",
              "    }\n",
              "\n",
              "    .dataframe thead th {\n",
              "        text-align: right;\n",
              "    }\n",
              "</style>\n",
              "<table border=\"1\" class=\"dataframe\">\n",
              "  <thead>\n",
              "    <tr style=\"text-align: right;\">\n",
              "      <th></th>\n",
              "      <th>category</th>\n",
              "      <th>text</th>\n",
              "    </tr>\n",
              "  </thead>\n",
              "  <tbody>\n",
              "    <tr>\n",
              "      <th>0</th>\n",
              "      <td>tech</td>\n",
              "      <td>tv future in the hands of viewers with home th...</td>\n",
              "    </tr>\n",
              "    <tr>\n",
              "      <th>1</th>\n",
              "      <td>business</td>\n",
              "      <td>worldcom boss  left books alone  former worldc...</td>\n",
              "    </tr>\n",
              "    <tr>\n",
              "      <th>2</th>\n",
              "      <td>sport</td>\n",
              "      <td>tigers wary of farrell  gamble  leicester say ...</td>\n",
              "    </tr>\n",
              "    <tr>\n",
              "      <th>3</th>\n",
              "      <td>sport</td>\n",
              "      <td>yeading face newcastle in fa cup premiership s...</td>\n",
              "    </tr>\n",
              "    <tr>\n",
              "      <th>4</th>\n",
              "      <td>entertainment</td>\n",
              "      <td>ocean s twelve raids box office ocean s twelve...</td>\n",
              "    </tr>\n",
              "    <tr>\n",
              "      <th>...</th>\n",
              "      <td>...</td>\n",
              "      <td>...</td>\n",
              "    </tr>\n",
              "    <tr>\n",
              "      <th>2220</th>\n",
              "      <td>business</td>\n",
              "      <td>cars pull down us retail figures us retail sal...</td>\n",
              "    </tr>\n",
              "    <tr>\n",
              "      <th>2221</th>\n",
              "      <td>politics</td>\n",
              "      <td>kilroy unveils immigration policy ex-chatshow ...</td>\n",
              "    </tr>\n",
              "    <tr>\n",
              "      <th>2222</th>\n",
              "      <td>entertainment</td>\n",
              "      <td>rem announce new glasgow concert us band rem h...</td>\n",
              "    </tr>\n",
              "    <tr>\n",
              "      <th>2223</th>\n",
              "      <td>politics</td>\n",
              "      <td>how political squabbles snowball it s become c...</td>\n",
              "    </tr>\n",
              "    <tr>\n",
              "      <th>2224</th>\n",
              "      <td>sport</td>\n",
              "      <td>souness delight at euro progress boss graeme s...</td>\n",
              "    </tr>\n",
              "  </tbody>\n",
              "</table>\n",
              "<p>2225 rows × 2 columns</p>\n",
              "</div>"
            ],
            "text/plain": [
              "           category                                               text\n",
              "0              tech  tv future in the hands of viewers with home th...\n",
              "1          business  worldcom boss  left books alone  former worldc...\n",
              "2             sport  tigers wary of farrell  gamble  leicester say ...\n",
              "3             sport  yeading face newcastle in fa cup premiership s...\n",
              "4     entertainment  ocean s twelve raids box office ocean s twelve...\n",
              "...             ...                                                ...\n",
              "2220       business  cars pull down us retail figures us retail sal...\n",
              "2221       politics  kilroy unveils immigration policy ex-chatshow ...\n",
              "2222  entertainment  rem announce new glasgow concert us band rem h...\n",
              "2223       politics  how political squabbles snowball it s become c...\n",
              "2224          sport  souness delight at euro progress boss graeme s...\n",
              "\n",
              "[2225 rows x 2 columns]"
            ]
          },
          "metadata": {
            "tags": []
          },
          "execution_count": 23
        }
      ]
    },
    {
      "cell_type": "code",
      "metadata": {
        "colab": {
          "base_uri": "https://localhost:8080/"
        },
        "id": "VxnQxk2UQlAa",
        "outputId": "331b2c29-4444-4e9c-ede8-60f736e9b510"
      },
      "source": [
        "data_len = len(df)\r\n",
        "train_data = int(data_len*0.8) \r\n",
        "print(train_data)\r\n",
        "test_data = data_len - train_data\r\n",
        "print(test_data)\r\n",
        "data_len"
      ],
      "execution_count": null,
      "outputs": [
        {
          "output_type": "stream",
          "text": [
            "1780\n",
            "445\n"
          ],
          "name": "stdout"
        },
        {
          "output_type": "execute_result",
          "data": {
            "text/plain": [
              "2225"
            ]
          },
          "metadata": {
            "tags": []
          },
          "execution_count": 24
        }
      ]
    },
    {
      "cell_type": "code",
      "metadata": {
        "id": "vFHKQQrRTcRC"
      },
      "source": [
        "train_tag = df['category'][:train_data]\r\n",
        "train_post = df['text'][:train_data]\r\n",
        "\r\n",
        "test_tag = df['category'][train_data:]\r\n",
        "test_post = df['text'][train_data:]"
      ],
      "execution_count": null,
      "outputs": []
    },
    {
      "cell_type": "code",
      "metadata": {
        "id": "-U52toSIUjM9"
      },
      "source": [
        "import numpy as np\r\n",
        "from keras.layers import Activation, Dense, Dropout\r\n",
        "from keras.models import Sequential\r\n",
        "from sklearn.preprocessing import LabelBinarizer\r\n",
        "from keras.preprocessing.text import Tokenizer\r\n"
      ],
      "execution_count": null,
      "outputs": []
    },
    {
      "cell_type": "code",
      "metadata": {
        "id": "MZv9ghBWVQME"
      },
      "source": [
        "num_labels = 5       # categories haru mathi herera\r\n",
        "vocab_size = 1500    # (1 sec)ekchoti ma kati ota text data lai vector ko format ma pathauney\r\n",
        "                     # news ma kati words cha tesma depend garcha \r\n",
        "                     # i.e 0 ma tech category ma kati words cha tah\r\n",
        "### vocab_size ---> euta category ko news ma number of words kati cha bhanne?\r\n",
        "batch_size = 100\r\n",
        "# mathi ko data haru guess garera rakhne ho pachi tuning garera milauna sakincha\r\n",
        "\r\n",
        "\r\n",
        "### define Tokenizer with vocab size  ###\r\n",
        "# kun word chai kun class sanga related cha bhanne\r\n",
        "# i.e bank ma jada line milauna token diyeko jasto\r\n",
        "# NN ley queue lai manage garna token use garcha\r\n",
        "\r\n",
        "tokenizer = Tokenizer(num_words = vocab_size)\r\n",
        "tokenizer.fit_on_texts(train_post)\r\n",
        "\r\n",
        "x_train = tokenizer.texts_to_matrix(train_post,mode='tfidf')\r\n",
        "x_test = tokenizer.texts_to_matrix(test_post,mode ='tfidf')\r\n",
        "\r\n",
        "encoder = LabelBinarizer()\r\n",
        "encoder.fit(train_tag)\r\n",
        "\r\n",
        "y_train = encoder.transform(train_tag)\r\n",
        "y_test = encoder.transform(test_tag)\r\n",
        "\r\n"
      ],
      "execution_count": null,
      "outputs": []
    },
    {
      "cell_type": "code",
      "metadata": {
        "colab": {
          "base_uri": "https://localhost:8080/"
        },
        "id": "WipRDshOa5Rh",
        "outputId": "4cd59281-288e-4c2f-f118-27a5c936fd6f"
      },
      "source": [
        "model = Sequential()\r\n",
        "model.add(Dense(512,input_shape = (vocab_size,)))\r\n",
        "model.add(Activation('relu'))\r\n",
        "model.add(Dropout(0.3))\r\n",
        "\r\n",
        "model.add(Dense(256))\r\n",
        "model.add(Activation('relu'))\r\n",
        "model.add(Dropout(0.3))\r\n",
        "\r\n",
        "model.add(Dense(num_labels))\r\n",
        "model.add(Activation('softmax'))\r\n",
        "model.summary()\r\n"
      ],
      "execution_count": null,
      "outputs": [
        {
          "output_type": "stream",
          "text": [
            "Model: \"sequential_1\"\n",
            "_________________________________________________________________\n",
            "Layer (type)                 Output Shape              Param #   \n",
            "=================================================================\n",
            "dense_3 (Dense)              (None, 512)               768512    \n",
            "_________________________________________________________________\n",
            "activation_3 (Activation)    (None, 512)               0         \n",
            "_________________________________________________________________\n",
            "dropout_2 (Dropout)          (None, 512)               0         \n",
            "_________________________________________________________________\n",
            "dense_4 (Dense)              (None, 256)               131328    \n",
            "_________________________________________________________________\n",
            "activation_4 (Activation)    (None, 256)               0         \n",
            "_________________________________________________________________\n",
            "dropout_3 (Dropout)          (None, 256)               0         \n",
            "_________________________________________________________________\n",
            "dense_5 (Dense)              (None, 5)                 1285      \n",
            "_________________________________________________________________\n",
            "activation_5 (Activation)    (None, 5)                 0         \n",
            "=================================================================\n",
            "Total params: 901,125\n",
            "Trainable params: 901,125\n",
            "Non-trainable params: 0\n",
            "_________________________________________________________________\n"
          ],
          "name": "stdout"
        }
      ]
    },
    {
      "cell_type": "code",
      "metadata": {
        "id": "I7qc3UZmQUcn"
      },
      "source": [
        "model.compile(loss = 'categorical_crossentropy',\r\n",
        "             optimizer = 'adam',\r\n",
        "             metrics = ['accuracy'])"
      ],
      "execution_count": null,
      "outputs": []
    },
    {
      "cell_type": "code",
      "metadata": {
        "colab": {
          "base_uri": "https://localhost:8080/"
        },
        "id": "E-BF2cUjX1ii",
        "outputId": "29574ffa-49d2-4d52-9db4-e70c46c87e5e"
      },
      "source": [
        "history = model.fit(x_train,y_train,epochs = 10,validation_split = 0.1)"
      ],
      "execution_count": null,
      "outputs": [
        {
          "output_type": "stream",
          "text": [
            "Epoch 1/10\n",
            "51/51 [==============================] - 1s 9ms/step - loss: 0.8639 - accuracy: 0.6607 - val_loss: 0.0670 - val_accuracy: 0.9831\n",
            "Epoch 2/10\n",
            "51/51 [==============================] - 0s 7ms/step - loss: 0.0436 - accuracy: 0.9887 - val_loss: 0.1024 - val_accuracy: 0.9607\n",
            "Epoch 3/10\n",
            "51/51 [==============================] - 0s 7ms/step - loss: 0.0137 - accuracy: 0.9979 - val_loss: 0.0898 - val_accuracy: 0.9719\n",
            "Epoch 4/10\n",
            "51/51 [==============================] - 0s 7ms/step - loss: 0.0068 - accuracy: 0.9989 - val_loss: 0.1198 - val_accuracy: 0.9607\n",
            "Epoch 5/10\n",
            "51/51 [==============================] - 0s 7ms/step - loss: 0.0059 - accuracy: 0.9984 - val_loss: 0.1123 - val_accuracy: 0.9607\n",
            "Epoch 6/10\n",
            "51/51 [==============================] - 0s 7ms/step - loss: 0.0065 - accuracy: 0.9978 - val_loss: 0.1371 - val_accuracy: 0.9719\n",
            "Epoch 7/10\n",
            "51/51 [==============================] - 0s 6ms/step - loss: 0.0118 - accuracy: 0.9959 - val_loss: 0.1300 - val_accuracy: 0.9607\n",
            "Epoch 8/10\n",
            "51/51 [==============================] - 0s 6ms/step - loss: 0.0015 - accuracy: 0.9991 - val_loss: 0.1233 - val_accuracy: 0.9607\n",
            "Epoch 9/10\n",
            "51/51 [==============================] - 0s 7ms/step - loss: 7.1278e-04 - accuracy: 1.0000 - val_loss: 0.1175 - val_accuracy: 0.9607\n",
            "Epoch 10/10\n",
            "51/51 [==============================] - 0s 6ms/step - loss: 0.0011 - accuracy: 1.0000 - val_loss: 0.1103 - val_accuracy: 0.9663\n"
          ],
          "name": "stdout"
        }
      ]
    },
    {
      "cell_type": "code",
      "metadata": {
        "id": "0OvopX-JX4vs"
      },
      "source": [
        "# saving the model\r\n",
        "\r\n",
        "import pickle\r\n",
        "model.save('/content/drive/MyDrive/text classification/bbc_text.h5')\r\n",
        "with open('tokenizer.pickle','wb') as f:\r\n",
        "  pickle.dump(tokenizer,f,protocol = pickle.HIGHEST_PROTOCOL)\r\n",
        "# pickle chai serialization ko lagi chahincha"
      ],
      "execution_count": null,
      "outputs": []
    },
    {
      "cell_type": "code",
      "metadata": {
        "id": "ZkmcyGWWRYbC"
      },
      "source": [
        "# loading the model\r\n",
        "from keras.models import load_model\r\n",
        "model = load_model('/content/drive/MyDrive/text classification/bbc_text.h5')\r\n",
        "\r\n",
        "# tokenizer = Tokenizer()\r\n",
        "# aba read mode ma kholne\r\n",
        "# model testing ko lagi\r\n",
        "with open('tokenizer.pickle','rb') as f:\r\n",
        "  tokenizers = pickle.load(f)\r\n"
      ],
      "execution_count": null,
      "outputs": []
    },
    {
      "cell_type": "code",
      "metadata": {
        "colab": {
          "base_uri": "https://localhost:8080/"
        },
        "id": "rDqdVl5GVYpU",
        "outputId": "e6f798d1-eafd-4c46-ad83-05d2f42f67da"
      },
      "source": [
        "encoder.classes_"
      ],
      "execution_count": null,
      "outputs": [
        {
          "output_type": "execute_result",
          "data": {
            "text/plain": [
              "array(['business', 'entertainment', 'politics', 'sport', 'tech'],\n",
              "      dtype='<U13')"
            ]
          },
          "metadata": {
            "tags": []
          },
          "execution_count": 33
        }
      ]
    },
    {
      "cell_type": "code",
      "metadata": {
        "id": "BNE5hMUEZXpw"
      },
      "source": [
        "labels = np.array(['business', 'entertainment', 'politics', 'sport', 'tech'])"
      ],
      "execution_count": null,
      "outputs": []
    },
    {
      "cell_type": "code",
      "metadata": {
        "id": "FhnkCc5ZbK7x"
      },
      "source": [
        "test_files = ['/content/drive/MyDrive/text classification/bbc.txt']"
      ],
      "execution_count": null,
      "outputs": []
    },
    {
      "cell_type": "code",
      "metadata": {
        "colab": {
          "base_uri": "https://localhost:8080/"
        },
        "id": "qkql-VNAgNk4",
        "outputId": "48637ad1-85b4-4776-98a6-fca9968b3a89"
      },
      "source": [
        "from pathlib import Path\r\n",
        "import pandas as pd\r\n",
        "x_data = []\r\n",
        "for text_file in test_files:\r\n",
        "  text_file_data = Path(text_file).read_text()\r\n",
        "  x_data.append(text_file_data)\r\n",
        "\r\n",
        "x_data_series = pd.Series(x_data)\r\n",
        "#x_data_series\r\n",
        "# yesma queue ma huncha ra teslai tokenize garnu parcha\r\n",
        "\r\n",
        "x_tokenized = tokenizer.texts_to_matrix(x_data_series, mode = 'tfidf')\r\n",
        "x_tokenized"
      ],
      "execution_count": null,
      "outputs": [
        {
          "output_type": "execute_result",
          "data": {
            "text/plain": [
              "array([[0.        , 2.21524948, 1.65808525, ..., 0.        , 0.        ,\n",
              "        0.        ]])"
            ]
          },
          "metadata": {
            "tags": []
          },
          "execution_count": 36
        }
      ]
    },
    {
      "cell_type": "code",
      "metadata": {
        "colab": {
          "base_uri": "https://localhost:8080/"
        },
        "id": "rWVYjCyGqNbk",
        "outputId": "8a1d82a5-d40b-4767-cecd-007208b2743b"
      },
      "source": [
        "# for prediction\r\n",
        "for x_t in x_tokenized:\r\n",
        "  prediction = model.predict(np.array([x_t]))\r\n",
        "  print(prediction)\r\n",
        "  #prediction gareko value ko index identify garna\r\n",
        "  \r\n",
        "  predicted_label = np.argmax(prediction)\r\n",
        "  print(predicted_label)\r\n",
        "\r\n",
        "  # prediction gareko value ko label patta lagauna\r\n",
        "  predicted_label = labels[np.argmax(prediction)]\r\n",
        "  print(predicted_label)"
      ],
      "execution_count": null,
      "outputs": [
        {
          "output_type": "stream",
          "text": [
            "[[9.9760997e-01 1.9164478e-04 4.2836383e-04 2.1231319e-04 1.5577349e-03]]\n",
            "0\n",
            "business\n"
          ],
          "name": "stdout"
        }
      ]
    },
    {
      "cell_type": "code",
      "metadata": {
        "id": "RgzwCZTFjVBn",
        "colab": {
          "base_uri": "https://localhost:8080/",
          "height": 1000
        },
        "outputId": "6ae77b3a-b7b4-4c18-e6e6-f336c5c58aad"
      },
      "source": [
        "# for notebook only \r\n",
        "'''\r\n",
        "b = open('/content/drive/MyDrive/text classification/news.txt','w')\r\n",
        "news = \"The New York Stock Exchange has reversed its decision to kick out three of China's largest state-owned telecom companies.The exchange said late Monday that it no longer intends to delist the firms after and that they will continue to be listed and traded on the NYSE.The sudden about-face comes just days after the NYSE announced that it would end trading in the shares of China Mobile (CHL), China Telecom (CHA), and China Unicom (CHU) — a move it said was needed to comply with an order President Donald Trump signed late last year that bans Americans from investing in firms that the US government suspects are either owned or controlled by the Chinese military.\"\r\n",
        "b.write(news)\r\n",
        "b.close()\r\n",
        "\r\n",
        "test_files = ['news.txt']\r\n",
        "\r\n",
        "from pathlib import Path\r\n",
        "x_data = []\r\n",
        "for text_file in test_files:\r\n",
        "  text_file_data = Path(text_file).read_text()\r\n",
        "  x_data.append(text_file_data)\r\n",
        "\r\n",
        "x_data_series = pd.Series(x_data)\r\n",
        "x_data_series \r\n",
        "'''"
      ],
      "execution_count": null,
      "outputs": [
        {
          "output_type": "execute_result",
          "data": {
            "application/vnd.google.colaboratory.intrinsic+json": {
              "type": "string"
            },
            "text/plain": [
              "'\\nb = open(\\'/content/drive/MyDrive/text classification/news.txt\\',\\'w\\')\\nnews = \"The New York Stock Exchange has reversed its decision to kick out three of China\\'s largest state-owned telecom companies.The exchange said late Monday that it no longer intends to delist the firms after and that they will continue to be listed and traded on the NYSE.The sudden about-face comes just days after the NYSE announced that it would end trading in the shares of China Mobile (CHL), China Telecom (CHA), and China Unicom (CHU) — a move it said was needed to comply with an order President Donald Trump signed late last year that bans Americans from investing in firms that the US government suspects are either owned or controlled by the Chinese military.\"\\nb.write(news)\\nb.close()\\n\\ntest_files = [\\'news.txt\\']\\n\\nfrom pathlib import Path\\nx_data = []\\nfor text_file in test_files:\\n  text_file_data = Path(text_file).read_text()\\n  x_data.append(text_file_data)\\n\\nx_data_series = pd.Series(x_data)\\nx_data_series \\n'"
            ]
          },
          "metadata": {
            "tags": []
          },
          "execution_count": 38
        }
      ]
    },
    {
      "cell_type": "code",
      "metadata": {
        "colab": {
          "base_uri": "https://localhost:8080/",
          "height": 317
        },
        "id": "r000hONSnjkv",
        "outputId": "dc8e7ca1-991c-45e3-c331-19d4d18b561b"
      },
      "source": [
        "# Loss Plot\r\n",
        "# Plot of training loss VS validation Loss\r\n",
        "import matplotlib.pyplot as plt\r\n",
        "\r\n",
        "history_dict= history.history\r\n",
        "print(history_dict)\r\n",
        "loss_values = history_dict['loss']\r\n",
        "val_loss_values = history_dict['val_loss']\r\n",
        "epochs = [1,2,3,4,5,6,7,8,9,10]\r\n",
        "line1 = plt.plot(epochs,val_loss_values,label = 'Validation/Test Loss')\r\n",
        "line2 = plt.plot(epochs,loss_values,label = 'Training Loss')\r\n",
        "\r\n",
        "plt.setp(line1,linewidth = 3.0,marker = '+',markersize = 10.0)\r\n",
        "plt.setp(line2,linewidth = 3.0,marker ='4',markersize = 10.0)\r\n",
        "\r\n",
        "plt.xlabel('No of Epochs')\r\n",
        "plt.ylabel('Loss')\r\n",
        "plt.grid(True)\r\n",
        "plt.legend()\r\n",
        "plt.show()"
      ],
      "execution_count": null,
      "outputs": [
        {
          "output_type": "stream",
          "text": [
            "{'loss': [0.4708902835845947, 0.0532623790204525, 0.01172805204987526, 0.011553328484296799, 0.005426368210464716, 0.0135145653039217, 0.005504544824361801, 0.0015116538852453232, 0.0005254645948298275, 0.000889213290065527], 'accuracy': [0.8320848941802979, 0.9868913888931274, 0.9987515807151794, 0.9981273412704468, 0.9987515807151794, 0.9956304430961609, 0.9981273412704468, 0.9993757605552673, 1.0, 1.0], 'val_loss': [0.06696467101573944, 0.10243863612413406, 0.08976784348487854, 0.11980926990509033, 0.11227703839540482, 0.13707000017166138, 0.12999184429645538, 0.12329916656017303, 0.11753299832344055, 0.11033008992671967], 'val_accuracy': [0.983146071434021, 0.9606741666793823, 0.9719101190567017, 0.9606741666793823, 0.9606741666793823, 0.9719101190567017, 0.9606741666793823, 0.9606741666793823, 0.9606741666793823, 0.966292142868042]}\n"
          ],
          "name": "stdout"
        },
        {
          "output_type": "display_data",
          "data": {
            "image/png": "[encoded data removed]",
            "text/plain": [
              "<Figure size 432x288 with 1 Axes>"
            ]
          },
          "metadata": {
            "tags": [],
            "needs_background": "light"
          }
        }
      ]
    },
    {
      "cell_type": "code",
      "metadata": {
        "colab": {
          "base_uri": "https://localhost:8080/",
          "height": 55
        },
        "id": "2YzEJ2nPzram",
        "outputId": "25ac8373-5258-4e3d-f0b9-676c7f51d36b"
      },
      "source": [
        "# accuracy plot\r\n",
        "# Plot of training acc VS validation acc\r\n",
        "import matplotlib.pyplot as plt\r\n",
        "\r\n",
        "history_dict= history.history\r\n",
        "acc_values = history_dict['accuracy']\r\n",
        "val_acc_values = history_dict['val_accuracy']\r\n",
        "line1 = plt.plot(epochs,acc_values,label = 'Validation/Test Acc')\r\n",
        "line2 = plt.plot(epochs,val_acc_values,label = 'Training Acc')\r\n",
        "\r\n",
        "plt.setp(line1,linewidth = 3,marker = '+',markersize = 7)\r\n",
        "plt.setp(line2,linewidth = 3,marker = '*',markersize = 7)\r\n",
        "\r\n",
        "plt.xlabel('No of Epochs')\r\n",
        "plt.ylabel('Acc')\r\n",
        "plt.grid(True)\r\n",
        "plt.legend()\r\n",
        "plt.show()"
      ],
      "execution_count": null,
      "outputs": [
        {
          "output_type": "display_data",
          "data": {
            "image/png": "[encoded data removed]",
            "text/plain": [
              "<Figure size 432x288 with 1 Axes>"
            ]
          },
          "metadata": {
            "tags": [],
            "needs_background": "light"
          }
        }
      ]
    },
    {
      "cell_type": "code",
      "metadata": {
        "id": "ggYyvfhJQBYG"
      },
      "source": [
        ""
      ],
      "execution_count": null,
      "outputs": []
    }
  ]
}