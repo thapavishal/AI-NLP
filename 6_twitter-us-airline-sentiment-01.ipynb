{
 "cells": [
  {
   "cell_type": "code",
   "execution_count": 1,
   "metadata": {
    "_cell_guid": "b1076dfc-b9ad-4769-8c92-a6c4dae69d19",
    "_uuid": "8f2839f25d086af736a60e9eeb907d3b93b6e0e5",
    "execution": {
     "iopub.execute_input": "2021-01-13T13:20:02.288337Z",
     "iopub.status.busy": "2021-01-13T13:20:02.287288Z",
     "iopub.status.idle": "2021-01-13T13:20:02.306119Z",
     "shell.execute_reply": "2021-01-13T13:20:02.305113Z"
    },
    "papermill": {
     "duration": 0.038127,
     "end_time": "2021-01-13T13:20:02.306291",
     "exception": false,
     "start_time": "2021-01-13T13:20:02.268164",
     "status": "completed"
    },
    "tags": []
   },
   "outputs": [
    {
     "name": "stdout",
     "output_type": "stream",
     "text": [
      "/kaggle/input/twitter-airline-sentiment/Tweets.csv\n",
      "/kaggle/input/twitter-airline-sentiment/database.sqlite\n"
     ]
    }
   ],
   "source": [
    "# This Python 3 environment comes with many helpful analytics libraries installed\n",
    "# It is defined by the kaggle/python Docker image: https://github.com/kaggle/docker-python\n",
    "# For example, here's several helpful packages to load\n",
    "\n",
    "import numpy as np # linear algebra\n",
    "import pandas as pd # data processing, CSV file I/O (e.g. pd.read_csv)\n",
    "\n",
    "# Input data files are available in the read-only \"../input/\" directory\n",
    "# For example, running this (by clicking run or pressing Shift+Enter) will list all files under the input directory\n",
    "\n",
    "import os\n",
    "for dirname, _, filenames in os.walk('/kaggle/input'):\n",
    "    for filename in filenames:\n",
    "        print(os.path.join(dirname, filename))\n",
    "\n",
    "# You can write up to 20GB to the current directory (/kaggle/working/) that gets preserved as output when you create a version using \"Save & Run All\" \n",
    "# You can also write temporary files to /kaggle/temp/, but they won't be saved outside of the current session"
   ]
  },
  {
   "cell_type": "code",
   "execution_count": 2,
   "metadata": {
    "_cell_guid": "79c7e3d0-c299-4dcb-8224-4455121ee9b0",
    "_uuid": "d629ff2d2480ee46fbb7e2d37f6b5fab8052498a",
    "execution": {
     "iopub.execute_input": "2021-01-13T13:20:02.340860Z",
     "iopub.status.busy": "2021-01-13T13:20:02.340132Z",
     "iopub.status.idle": "2021-01-13T13:20:02.529958Z",
     "shell.execute_reply": "2021-01-13T13:20:02.530478Z"
    },
    "papermill": {
     "duration": 0.209444,
     "end_time": "2021-01-13T13:20:02.530619",
     "exception": false,
     "start_time": "2021-01-13T13:20:02.321175",
     "status": "completed"
    },
    "tags": []
   },
   "outputs": [
    {
     "data": {
      "text/html": [
       "<div>\n",
       "<style scoped>\n",
       "    .dataframe tbody tr th:only-of-type {\n",
       "        vertical-align: middle;\n",
       "    }\n",
       "\n",
       "    .dataframe tbody tr th {\n",
       "        vertical-align: top;\n",
       "    }\n",
       "\n",
       "    .dataframe thead th {\n",
       "        text-align: right;\n",
       "    }\n",
       "</style>\n",
       "<table border=\"1\" class=\"dataframe\">\n",
       "  <thead>\n",
       "    <tr style=\"text-align: right;\">\n",
       "      <th></th>\n",
       "      <th>tweet_id</th>\n",
       "      <th>airline_sentiment</th>\n",
       "      <th>airline_sentiment_confidence</th>\n",
       "      <th>negativereason</th>\n",
       "      <th>negativereason_confidence</th>\n",
       "      <th>airline</th>\n",
       "      <th>airline_sentiment_gold</th>\n",
       "      <th>name</th>\n",
       "      <th>negativereason_gold</th>\n",
       "      <th>retweet_count</th>\n",
       "      <th>text</th>\n",
       "      <th>tweet_coord</th>\n",
       "      <th>tweet_created</th>\n",
       "      <th>tweet_location</th>\n",
       "      <th>user_timezone</th>\n",
       "    </tr>\n",
       "  </thead>\n",
       "  <tbody>\n",
       "    <tr>\n",
       "      <th>0</th>\n",
       "      <td>570306133677760513</td>\n",
       "      <td>neutral</td>\n",
       "      <td>1.0000</td>\n",
       "      <td>NaN</td>\n",
       "      <td>NaN</td>\n",
       "      <td>Virgin America</td>\n",
       "      <td>NaN</td>\n",
       "      <td>cairdin</td>\n",
       "      <td>NaN</td>\n",
       "      <td>0</td>\n",
       "      <td>@VirginAmerica What @dhepburn said.</td>\n",
       "      <td>NaN</td>\n",
       "      <td>2015-02-24 11:35:52 -0800</td>\n",
       "      <td>NaN</td>\n",
       "      <td>Eastern Time (US &amp; Canada)</td>\n",
       "    </tr>\n",
       "    <tr>\n",
       "      <th>1</th>\n",
       "      <td>570301130888122368</td>\n",
       "      <td>positive</td>\n",
       "      <td>0.3486</td>\n",
       "      <td>NaN</td>\n",
       "      <td>0.0000</td>\n",
       "      <td>Virgin America</td>\n",
       "      <td>NaN</td>\n",
       "      <td>jnardino</td>\n",
       "      <td>NaN</td>\n",
       "      <td>0</td>\n",
       "      <td>@VirginAmerica plus you've added commercials t...</td>\n",
       "      <td>NaN</td>\n",
       "      <td>2015-02-24 11:15:59 -0800</td>\n",
       "      <td>NaN</td>\n",
       "      <td>Pacific Time (US &amp; Canada)</td>\n",
       "    </tr>\n",
       "    <tr>\n",
       "      <th>2</th>\n",
       "      <td>570301083672813571</td>\n",
       "      <td>neutral</td>\n",
       "      <td>0.6837</td>\n",
       "      <td>NaN</td>\n",
       "      <td>NaN</td>\n",
       "      <td>Virgin America</td>\n",
       "      <td>NaN</td>\n",
       "      <td>yvonnalynn</td>\n",
       "      <td>NaN</td>\n",
       "      <td>0</td>\n",
       "      <td>@VirginAmerica I didn't today... Must mean I n...</td>\n",
       "      <td>NaN</td>\n",
       "      <td>2015-02-24 11:15:48 -0800</td>\n",
       "      <td>Lets Play</td>\n",
       "      <td>Central Time (US &amp; Canada)</td>\n",
       "    </tr>\n",
       "    <tr>\n",
       "      <th>3</th>\n",
       "      <td>570301031407624196</td>\n",
       "      <td>negative</td>\n",
       "      <td>1.0000</td>\n",
       "      <td>Bad Flight</td>\n",
       "      <td>0.7033</td>\n",
       "      <td>Virgin America</td>\n",
       "      <td>NaN</td>\n",
       "      <td>jnardino</td>\n",
       "      <td>NaN</td>\n",
       "      <td>0</td>\n",
       "      <td>@VirginAmerica it's really aggressive to blast...</td>\n",
       "      <td>NaN</td>\n",
       "      <td>2015-02-24 11:15:36 -0800</td>\n",
       "      <td>NaN</td>\n",
       "      <td>Pacific Time (US &amp; Canada)</td>\n",
       "    </tr>\n",
       "    <tr>\n",
       "      <th>4</th>\n",
       "      <td>570300817074462722</td>\n",
       "      <td>negative</td>\n",
       "      <td>1.0000</td>\n",
       "      <td>Can't Tell</td>\n",
       "      <td>1.0000</td>\n",
       "      <td>Virgin America</td>\n",
       "      <td>NaN</td>\n",
       "      <td>jnardino</td>\n",
       "      <td>NaN</td>\n",
       "      <td>0</td>\n",
       "      <td>@VirginAmerica and it's a really big bad thing...</td>\n",
       "      <td>NaN</td>\n",
       "      <td>2015-02-24 11:14:45 -0800</td>\n",
       "      <td>NaN</td>\n",
       "      <td>Pacific Time (US &amp; Canada)</td>\n",
       "    </tr>\n",
       "    <tr>\n",
       "      <th>...</th>\n",
       "      <td>...</td>\n",
       "      <td>...</td>\n",
       "      <td>...</td>\n",
       "      <td>...</td>\n",
       "      <td>...</td>\n",
       "      <td>...</td>\n",
       "      <td>...</td>\n",
       "      <td>...</td>\n",
       "      <td>...</td>\n",
       "      <td>...</td>\n",
       "      <td>...</td>\n",
       "      <td>...</td>\n",
       "      <td>...</td>\n",
       "      <td>...</td>\n",
       "      <td>...</td>\n",
       "    </tr>\n",
       "    <tr>\n",
       "      <th>14635</th>\n",
       "      <td>569587686496825344</td>\n",
       "      <td>positive</td>\n",
       "      <td>0.3487</td>\n",
       "      <td>NaN</td>\n",
       "      <td>0.0000</td>\n",
       "      <td>American</td>\n",
       "      <td>NaN</td>\n",
       "      <td>KristenReenders</td>\n",
       "      <td>NaN</td>\n",
       "      <td>0</td>\n",
       "      <td>@AmericanAir thank you we got on a different f...</td>\n",
       "      <td>NaN</td>\n",
       "      <td>2015-02-22 12:01:01 -0800</td>\n",
       "      <td>NaN</td>\n",
       "      <td>NaN</td>\n",
       "    </tr>\n",
       "    <tr>\n",
       "      <th>14636</th>\n",
       "      <td>569587371693355008</td>\n",
       "      <td>negative</td>\n",
       "      <td>1.0000</td>\n",
       "      <td>Customer Service Issue</td>\n",
       "      <td>1.0000</td>\n",
       "      <td>American</td>\n",
       "      <td>NaN</td>\n",
       "      <td>itsropes</td>\n",
       "      <td>NaN</td>\n",
       "      <td>0</td>\n",
       "      <td>@AmericanAir leaving over 20 minutes Late Flig...</td>\n",
       "      <td>NaN</td>\n",
       "      <td>2015-02-22 11:59:46 -0800</td>\n",
       "      <td>Texas</td>\n",
       "      <td>NaN</td>\n",
       "    </tr>\n",
       "    <tr>\n",
       "      <th>14637</th>\n",
       "      <td>569587242672398336</td>\n",
       "      <td>neutral</td>\n",
       "      <td>1.0000</td>\n",
       "      <td>NaN</td>\n",
       "      <td>NaN</td>\n",
       "      <td>American</td>\n",
       "      <td>NaN</td>\n",
       "      <td>sanyabun</td>\n",
       "      <td>NaN</td>\n",
       "      <td>0</td>\n",
       "      <td>@AmericanAir Please bring American Airlines to...</td>\n",
       "      <td>NaN</td>\n",
       "      <td>2015-02-22 11:59:15 -0800</td>\n",
       "      <td>Nigeria,lagos</td>\n",
       "      <td>NaN</td>\n",
       "    </tr>\n",
       "    <tr>\n",
       "      <th>14638</th>\n",
       "      <td>569587188687634433</td>\n",
       "      <td>negative</td>\n",
       "      <td>1.0000</td>\n",
       "      <td>Customer Service Issue</td>\n",
       "      <td>0.6659</td>\n",
       "      <td>American</td>\n",
       "      <td>NaN</td>\n",
       "      <td>SraJackson</td>\n",
       "      <td>NaN</td>\n",
       "      <td>0</td>\n",
       "      <td>@AmericanAir you have my money, you change my ...</td>\n",
       "      <td>NaN</td>\n",
       "      <td>2015-02-22 11:59:02 -0800</td>\n",
       "      <td>New Jersey</td>\n",
       "      <td>Eastern Time (US &amp; Canada)</td>\n",
       "    </tr>\n",
       "    <tr>\n",
       "      <th>14639</th>\n",
       "      <td>569587140490866689</td>\n",
       "      <td>neutral</td>\n",
       "      <td>0.6771</td>\n",
       "      <td>NaN</td>\n",
       "      <td>0.0000</td>\n",
       "      <td>American</td>\n",
       "      <td>NaN</td>\n",
       "      <td>daviddtwu</td>\n",
       "      <td>NaN</td>\n",
       "      <td>0</td>\n",
       "      <td>@AmericanAir we have 8 ppl so we need 2 know h...</td>\n",
       "      <td>NaN</td>\n",
       "      <td>2015-02-22 11:58:51 -0800</td>\n",
       "      <td>dallas, TX</td>\n",
       "      <td>NaN</td>\n",
       "    </tr>\n",
       "  </tbody>\n",
       "</table>\n",
       "<p>14640 rows × 15 columns</p>\n",
       "</div>"
      ],
      "text/plain": [
       "                 tweet_id airline_sentiment  airline_sentiment_confidence  \\\n",
       "0      570306133677760513           neutral                        1.0000   \n",
       "1      570301130888122368          positive                        0.3486   \n",
       "2      570301083672813571           neutral                        0.6837   \n",
       "3      570301031407624196          negative                        1.0000   \n",
       "4      570300817074462722          negative                        1.0000   \n",
       "...                   ...               ...                           ...   \n",
       "14635  569587686496825344          positive                        0.3487   \n",
       "14636  569587371693355008          negative                        1.0000   \n",
       "14637  569587242672398336           neutral                        1.0000   \n",
       "14638  569587188687634433          negative                        1.0000   \n",
       "14639  569587140490866689           neutral                        0.6771   \n",
       "\n",
       "               negativereason  negativereason_confidence         airline  \\\n",
       "0                         NaN                        NaN  Virgin America   \n",
       "1                         NaN                     0.0000  Virgin America   \n",
       "2                         NaN                        NaN  Virgin America   \n",
       "3                  Bad Flight                     0.7033  Virgin America   \n",
       "4                  Can't Tell                     1.0000  Virgin America   \n",
       "...                       ...                        ...             ...   \n",
       "14635                     NaN                     0.0000        American   \n",
       "14636  Customer Service Issue                     1.0000        American   \n",
       "14637                     NaN                        NaN        American   \n",
       "14638  Customer Service Issue                     0.6659        American   \n",
       "14639                     NaN                     0.0000        American   \n",
       "\n",
       "      airline_sentiment_gold             name negativereason_gold  \\\n",
       "0                        NaN          cairdin                 NaN   \n",
       "1                        NaN         jnardino                 NaN   \n",
       "2                        NaN       yvonnalynn                 NaN   \n",
       "3                        NaN         jnardino                 NaN   \n",
       "4                        NaN         jnardino                 NaN   \n",
       "...                      ...              ...                 ...   \n",
       "14635                    NaN  KristenReenders                 NaN   \n",
       "14636                    NaN         itsropes                 NaN   \n",
       "14637                    NaN         sanyabun                 NaN   \n",
       "14638                    NaN       SraJackson                 NaN   \n",
       "14639                    NaN        daviddtwu                 NaN   \n",
       "\n",
       "       retweet_count                                               text  \\\n",
       "0                  0                @VirginAmerica What @dhepburn said.   \n",
       "1                  0  @VirginAmerica plus you've added commercials t...   \n",
       "2                  0  @VirginAmerica I didn't today... Must mean I n...   \n",
       "3                  0  @VirginAmerica it's really aggressive to blast...   \n",
       "4                  0  @VirginAmerica and it's a really big bad thing...   \n",
       "...              ...                                                ...   \n",
       "14635              0  @AmericanAir thank you we got on a different f...   \n",
       "14636              0  @AmericanAir leaving over 20 minutes Late Flig...   \n",
       "14637              0  @AmericanAir Please bring American Airlines to...   \n",
       "14638              0  @AmericanAir you have my money, you change my ...   \n",
       "14639              0  @AmericanAir we have 8 ppl so we need 2 know h...   \n",
       "\n",
       "      tweet_coord              tweet_created tweet_location  \\\n",
       "0             NaN  2015-02-24 11:35:52 -0800            NaN   \n",
       "1             NaN  2015-02-24 11:15:59 -0800            NaN   \n",
       "2             NaN  2015-02-24 11:15:48 -0800      Lets Play   \n",
       "3             NaN  2015-02-24 11:15:36 -0800            NaN   \n",
       "4             NaN  2015-02-24 11:14:45 -0800            NaN   \n",
       "...           ...                        ...            ...   \n",
       "14635         NaN  2015-02-22 12:01:01 -0800            NaN   \n",
       "14636         NaN  2015-02-22 11:59:46 -0800          Texas   \n",
       "14637         NaN  2015-02-22 11:59:15 -0800  Nigeria,lagos   \n",
       "14638         NaN  2015-02-22 11:59:02 -0800     New Jersey   \n",
       "14639         NaN  2015-02-22 11:58:51 -0800     dallas, TX   \n",
       "\n",
       "                    user_timezone  \n",
       "0      Eastern Time (US & Canada)  \n",
       "1      Pacific Time (US & Canada)  \n",
       "2      Central Time (US & Canada)  \n",
       "3      Pacific Time (US & Canada)  \n",
       "4      Pacific Time (US & Canada)  \n",
       "...                           ...  \n",
       "14635                         NaN  \n",
       "14636                         NaN  \n",
       "14637                         NaN  \n",
       "14638  Eastern Time (US & Canada)  \n",
       "14639                         NaN  \n",
       "\n",
       "[14640 rows x 15 columns]"
      ]
     },
     "execution_count": 2,
     "metadata": {},
     "output_type": "execute_result"
    }
   ],
   "source": [
    "import pandas as pd\n",
    "df = pd.read_csv('/kaggle/input/twitter-airline-sentiment/Tweets.csv')\n",
    "df"
   ]
  },
  {
   "cell_type": "code",
   "execution_count": 3,
   "metadata": {
    "execution": {
     "iopub.execute_input": "2021-01-13T13:20:02.565459Z",
     "iopub.status.busy": "2021-01-13T13:20:02.564626Z",
     "iopub.status.idle": "2021-01-13T13:20:02.568868Z",
     "shell.execute_reply": "2021-01-13T13:20:02.568361Z"
    },
    "papermill": {
     "duration": 0.023893,
     "end_time": "2021-01-13T13:20:02.568982",
     "exception": false,
     "start_time": "2021-01-13T13:20:02.545089",
     "status": "completed"
    },
    "tags": []
   },
   "outputs": [
    {
     "data": {
      "text/plain": [
       "14640"
      ]
     },
     "execution_count": 3,
     "metadata": {},
     "output_type": "execute_result"
    }
   ],
   "source": [
    "data_len = len(df)\n",
    "train_data = int(data_len*0.8)\n",
    "data_len"
   ]
  },
  {
   "cell_type": "code",
   "execution_count": 4,
   "metadata": {
    "execution": {
     "iopub.execute_input": "2021-01-13T13:20:02.606329Z",
     "iopub.status.busy": "2021-01-13T13:20:02.605329Z",
     "iopub.status.idle": "2021-01-13T13:20:02.608933Z",
     "shell.execute_reply": "2021-01-13T13:20:02.608346Z"
    },
    "papermill": {
     "duration": 0.025244,
     "end_time": "2021-01-13T13:20:02.609051",
     "exception": false,
     "start_time": "2021-01-13T13:20:02.583807",
     "status": "completed"
    },
    "tags": []
   },
   "outputs": [],
   "source": [
    "train_tag = df['airline_sentiment'][:train_data]\n",
    "train_post = df['text'][:train_data]\n",
    "\n",
    "test_tag = df['airline_sentiment'][train_data:]\n",
    "test_post = df['text'][train_data:]"
   ]
  },
  {
   "cell_type": "code",
   "execution_count": 5,
   "metadata": {
    "execution": {
     "iopub.execute_input": "2021-01-13T13:20:02.646104Z",
     "iopub.status.busy": "2021-01-13T13:20:02.645374Z",
     "iopub.status.idle": "2021-01-13T13:20:11.061150Z",
     "shell.execute_reply": "2021-01-13T13:20:11.060428Z"
    },
    "papermill": {
     "duration": 8.437093,
     "end_time": "2021-01-13T13:20:11.061293",
     "exception": false,
     "start_time": "2021-01-13T13:20:02.624200",
     "status": "completed"
    },
    "tags": []
   },
   "outputs": [],
   "source": [
    "import numpy as np\n",
    "from keras.layers import Activation, Dense, Dropout,Embedding,LSTM\n",
    "from keras.models import Sequential\n",
    "from sklearn.preprocessing import LabelBinarizer\n",
    "from keras.preprocessing.text import Tokenizer"
   ]
  },
  {
   "cell_type": "code",
   "execution_count": 6,
   "metadata": {
    "execution": {
     "iopub.execute_input": "2021-01-13T13:20:11.127431Z",
     "iopub.status.busy": "2021-01-13T13:20:11.111520Z",
     "iopub.status.idle": "2021-01-13T13:20:13.418324Z",
     "shell.execute_reply": "2021-01-13T13:20:13.418877Z"
    },
    "papermill": {
     "duration": 2.341872,
     "end_time": "2021-01-13T13:20:13.419028",
     "exception": false,
     "start_time": "2021-01-13T13:20:11.077156",
     "status": "completed"
    },
    "tags": []
   },
   "outputs": [],
   "source": [
    "num_labels = 3       \n",
    "vocab_size = 1500   \n",
    "batch_size = 100\n",
    "\n",
    "\n",
    "tokenizer = Tokenizer(num_words = vocab_size)\n",
    "tokenizer.fit_on_texts(train_post) \n",
    "\n",
    "\n",
    "x_train = tokenizer.texts_to_matrix(train_post,mode='tfidf')\n",
    "x_test = tokenizer.texts_to_matrix(test_post,mode ='tfidf')\n",
    "\n",
    "encoder = LabelBinarizer()  \n",
    "encoder.fit(train_tag)  \n",
    "\n",
    "y_train = encoder.transform(train_tag)\n",
    "y_test = encoder.transform(test_tag) "
   ]
  },
  {
   "cell_type": "code",
   "execution_count": 7,
   "metadata": {
    "execution": {
     "iopub.execute_input": "2021-01-13T13:20:13.454696Z",
     "iopub.status.busy": "2021-01-13T13:20:13.453982Z",
     "iopub.status.idle": "2021-01-13T13:20:14.204422Z",
     "shell.execute_reply": "2021-01-13T13:20:14.205061Z"
    },
    "papermill": {
     "duration": 0.769195,
     "end_time": "2021-01-13T13:20:14.205213",
     "exception": false,
     "start_time": "2021-01-13T13:20:13.436018",
     "status": "completed"
    },
    "tags": []
   },
   "outputs": [
    {
     "name": "stdout",
     "output_type": "stream",
     "text": [
      "Model: \"sequential\"\n",
      "_________________________________________________________________\n",
      "Layer (type)                 Output Shape              Param #   \n",
      "=================================================================\n",
      "embedding (Embedding)        (None, 15000, 50)         75000     \n",
      "_________________________________________________________________\n",
      "lstm (LSTM)                  (None, 15000, 50)         20200     \n",
      "_________________________________________________________________\n",
      "lstm_1 (LSTM)                (None, 10)                2440      \n",
      "_________________________________________________________________\n",
      "dropout (Dropout)            (None, 10)                0         \n",
      "_________________________________________________________________\n",
      "dense (Dense)                (None, 16)                176       \n",
      "_________________________________________________________________\n",
      "dense_1 (Dense)              (None, 3)                 51        \n",
      "=================================================================\n",
      "Total params: 97,867\n",
      "Trainable params: 97,867\n",
      "Non-trainable params: 0\n",
      "_________________________________________________________________\n"
     ]
    }
   ],
   "source": [
    "embedding_dim = 50\n",
    "model = Sequential()\n",
    "model.add(Embedding(input_dim = vocab_size,output_dim=embedding_dim,input_length=15000))\n",
    "model.add(LSTM(units = 50, return_sequences = True))\n",
    "model.add(LSTM(units = 10))\n",
    "model.add(Dropout(0.5))\n",
    "\n",
    "model.add(Dense(16))\n",
    "model.add(Dense(3,activation = \"softmax\"))\n",
    "\n",
    "model.summary()"
   ]
  },
  {
   "cell_type": "code",
   "execution_count": 8,
   "metadata": {
    "execution": {
     "iopub.execute_input": "2021-01-13T13:20:14.250619Z",
     "iopub.status.busy": "2021-01-13T13:20:14.247286Z",
     "iopub.status.idle": "2021-01-13T13:20:14.257463Z",
     "shell.execute_reply": "2021-01-13T13:20:14.256749Z"
    },
    "papermill": {
     "duration": 0.035969,
     "end_time": "2021-01-13T13:20:14.257590",
     "exception": false,
     "start_time": "2021-01-13T13:20:14.221621",
     "status": "completed"
    },
    "tags": []
   },
   "outputs": [],
   "source": [
    "model.compile(loss = 'categorical_crossentropy',\n",
    "             optimizer = 'adam',\n",
    "             metrics = ['accuracy'])"
   ]
  },
  {
   "cell_type": "code",
   "execution_count": 9,
   "metadata": {
    "execution": {
     "iopub.execute_input": "2021-01-13T13:20:14.296623Z",
     "iopub.status.busy": "2021-01-13T13:20:14.295880Z",
     "iopub.status.idle": "2021-01-13T14:37:13.820327Z",
     "shell.execute_reply": "2021-01-13T14:37:13.819746Z"
    },
    "papermill": {
     "duration": 4619.546549,
     "end_time": "2021-01-13T14:37:13.820461",
     "exception": false,
     "start_time": "2021-01-13T13:20:14.273912",
     "status": "completed"
    },
    "tags": []
   },
   "outputs": [
    {
     "name": "stdout",
     "output_type": "stream",
     "text": [
      "Epoch 1/10\n",
      "366/366 [==============================] - 459s 1s/step - loss: 0.9583 - accuracy: 0.6032\n",
      "Epoch 2/10\n",
      "366/366 [==============================] - 460s 1s/step - loss: 0.9426 - accuracy: 0.6054\n",
      "Epoch 3/10\n",
      "366/366 [==============================] - 464s 1s/step - loss: 0.9419 - accuracy: 0.6054\n",
      "Epoch 4/10\n",
      "366/366 [==============================] - 459s 1s/step - loss: 0.9416 - accuracy: 0.6054\n",
      "Epoch 5/10\n",
      "366/366 [==============================] - 456s 1s/step - loss: 0.9414 - accuracy: 0.6054\n",
      "Epoch 6/10\n",
      "366/366 [==============================] - 459s 1s/step - loss: 0.9414 - accuracy: 0.6054\n",
      "Epoch 7/10\n",
      "366/366 [==============================] - 460s 1s/step - loss: 0.9413 - accuracy: 0.6054\n",
      "Epoch 8/10\n",
      "366/366 [==============================] - 460s 1s/step - loss: 0.9412 - accuracy: 0.6054\n",
      "Epoch 9/10\n",
      "366/366 [==============================] - 462s 1s/step - loss: 0.9412 - accuracy: 0.6054\n",
      "Epoch 10/10\n",
      "366/366 [==============================] - 463s 1s/step - loss: 0.9412 - accuracy: 0.6054\n"
     ]
    }
   ],
   "source": [
    "history = model.fit(x_train,y_train,batch_size=32, epochs = 10)"
   ]
  },
  {
   "cell_type": "code",
   "execution_count": 10,
   "metadata": {
    "execution": {
     "iopub.execute_input": "2021-01-13T14:37:16.421129Z",
     "iopub.status.busy": "2021-01-13T14:37:16.420372Z",
     "iopub.status.idle": "2021-01-13T14:37:16.473529Z",
     "shell.execute_reply": "2021-01-13T14:37:16.472718Z"
    },
    "papermill": {
     "duration": 1.420215,
     "end_time": "2021-01-13T14:37:16.473651",
     "exception": false,
     "start_time": "2021-01-13T14:37:15.053436",
     "status": "completed"
    },
    "tags": []
   },
   "outputs": [],
   "source": [
    "# saving the model\n",
    "import pickle\n",
    "model.save('sentiLSTM.h5')\n",
    "with open('tokenizer.pickle','wb') as f:\n",
    "  pickle.dump(tokenizer,f,protocol = pickle.HIGHEST_PROTOCOL)\n",
    "# pickle chai serialization ko lagi chahincha"
   ]
  },
  {
   "cell_type": "code",
   "execution_count": 11,
   "metadata": {
    "execution": {
     "iopub.execute_input": "2021-01-13T14:37:19.094026Z",
     "iopub.status.busy": "2021-01-13T14:37:19.093270Z",
     "iopub.status.idle": "2021-01-13T14:37:19.846119Z",
     "shell.execute_reply": "2021-01-13T14:37:19.845405Z"
    },
    "papermill": {
     "duration": 2.07516,
     "end_time": "2021-01-13T14:37:19.846236",
     "exception": false,
     "start_time": "2021-01-13T14:37:17.771076",
     "status": "completed"
    },
    "tags": []
   },
   "outputs": [],
   "source": [
    "# loading the model\n",
    "from keras.models import load_model\n",
    "model = load_model('sentiLSTM.h5')\n",
    "\n",
    "# tokenizer = Tokenizer()\n",
    "# aba read mode ma kholne\n",
    "# model testing ko lagi\n",
    "with open('tokenizer.pickle','rb') as f:\n",
    "  tokenizers = pickle.load(f)"
   ]
  },
  {
   "cell_type": "code",
   "execution_count": 12,
   "metadata": {
    "execution": {
     "iopub.execute_input": "2021-01-13T14:37:22.405439Z",
     "iopub.status.busy": "2021-01-13T14:37:22.404349Z",
     "iopub.status.idle": "2021-01-13T14:37:22.408709Z",
     "shell.execute_reply": "2021-01-13T14:37:22.408020Z"
    },
    "papermill": {
     "duration": 1.260966,
     "end_time": "2021-01-13T14:37:22.408839",
     "exception": false,
     "start_time": "2021-01-13T14:37:21.147873",
     "status": "completed"
    },
    "tags": []
   },
   "outputs": [
    {
     "data": {
      "text/plain": [
       "array(['negative', 'neutral', 'positive'], dtype='<U8')"
      ]
     },
     "execution_count": 12,
     "metadata": {},
     "output_type": "execute_result"
    }
   ],
   "source": [
    "encoder.classes_"
   ]
  },
  {
   "cell_type": "code",
   "execution_count": 13,
   "metadata": {
    "execution": {
     "iopub.execute_input": "2021-01-13T14:37:24.950800Z",
     "iopub.status.busy": "2021-01-13T14:37:24.949786Z",
     "iopub.status.idle": "2021-01-13T14:37:24.955264Z",
     "shell.execute_reply": "2021-01-13T14:37:24.954710Z"
    },
    "papermill": {
     "duration": 1.248202,
     "end_time": "2021-01-13T14:37:24.955471",
     "exception": false,
     "start_time": "2021-01-13T14:37:23.707269",
     "status": "completed"
    },
    "tags": []
   },
   "outputs": [],
   "source": [
    "labels = np.array(['negative', 'neutral', 'positive'])"
   ]
  },
  {
   "cell_type": "code",
   "execution_count": 14,
   "metadata": {
    "execution": {
     "iopub.execute_input": "2021-01-13T14:37:27.485505Z",
     "iopub.status.busy": "2021-01-13T14:37:27.484764Z",
     "iopub.status.idle": "2021-01-13T14:37:27.488216Z",
     "shell.execute_reply": "2021-01-13T14:37:27.487663Z"
    },
    "papermill": {
     "duration": 1.284503,
     "end_time": "2021-01-13T14:37:27.488358",
     "exception": false,
     "start_time": "2021-01-13T14:37:26.203855",
     "status": "completed"
    },
    "tags": []
   },
   "outputs": [],
   "source": [
    "b = open('news.txt','w')\n",
    "news = \"This is not very good. I do not like it.\"\n",
    "b.write(news)\n",
    "b.close()"
   ]
  },
  {
   "cell_type": "code",
   "execution_count": 15,
   "metadata": {
    "execution": {
     "iopub.execute_input": "2021-01-13T14:37:30.084982Z",
     "iopub.status.busy": "2021-01-13T14:37:30.083976Z",
     "iopub.status.idle": "2021-01-13T14:37:30.088599Z",
     "shell.execute_reply": "2021-01-13T14:37:30.089286Z"
    },
    "papermill": {
     "duration": 1.320773,
     "end_time": "2021-01-13T14:37:30.089475",
     "exception": false,
     "start_time": "2021-01-13T14:37:28.768702",
     "status": "completed"
    },
    "tags": []
   },
   "outputs": [
    {
     "name": "stdout",
     "output_type": "stream",
     "text": [
      "This is not very good. I do not like it.\n"
     ]
    }
   ],
   "source": [
    "b = open('news.txt','r')\n",
    "print(b.read())\n",
    "b.close()"
   ]
  },
  {
   "cell_type": "code",
   "execution_count": 16,
   "metadata": {
    "execution": {
     "iopub.execute_input": "2021-01-13T14:37:32.639280Z",
     "iopub.status.busy": "2021-01-13T14:37:32.638312Z",
     "iopub.status.idle": "2021-01-13T14:37:32.641358Z",
     "shell.execute_reply": "2021-01-13T14:37:32.640824Z"
    },
    "papermill": {
     "duration": 1.284812,
     "end_time": "2021-01-13T14:37:32.641476",
     "exception": false,
     "start_time": "2021-01-13T14:37:31.356664",
     "status": "completed"
    },
    "tags": []
   },
   "outputs": [],
   "source": [
    "test_files = ['news.txt']"
   ]
  },
  {
   "cell_type": "code",
   "execution_count": 17,
   "metadata": {
    "execution": {
     "iopub.execute_input": "2021-01-13T14:37:35.155085Z",
     "iopub.status.busy": "2021-01-13T14:37:35.153876Z",
     "iopub.status.idle": "2021-01-13T14:37:35.156592Z",
     "shell.execute_reply": "2021-01-13T14:37:35.157124Z"
    },
    "papermill": {
     "duration": 1.263041,
     "end_time": "2021-01-13T14:37:35.157269",
     "exception": false,
     "start_time": "2021-01-13T14:37:33.894228",
     "status": "completed"
    },
    "tags": []
   },
   "outputs": [],
   "source": [
    "from pathlib import Path\n",
    "import pandas as pd\n",
    "x_data = []\n",
    "for t_f in test_files:\n",
    "    t_f_data = Path(t_f).read_text()\n",
    "    x_data.append(t_f_data)\n",
    "    \n",
    "x_data_series = pd.Series(x_data)\n",
    "x_tokenized = tokenizer.texts_to_matrix(x_data_series,mode ='tfidf')"
   ]
  },
  {
   "cell_type": "code",
   "execution_count": 18,
   "metadata": {
    "execution": {
     "iopub.execute_input": "2021-01-13T14:37:37.682746Z",
     "iopub.status.busy": "2021-01-13T14:37:37.681670Z",
     "iopub.status.idle": "2021-01-13T14:37:38.540793Z",
     "shell.execute_reply": "2021-01-13T14:37:38.541341Z"
    },
    "papermill": {
     "duration": 2.107303,
     "end_time": "2021-01-13T14:37:38.541513",
     "exception": false,
     "start_time": "2021-01-13T14:37:36.434210",
     "status": "completed"
    },
    "tags": []
   },
   "outputs": [
    {
     "name": "stdout",
     "output_type": "stream",
     "text": [
      "[[0.61312187 0.21710531 0.1697728 ]]\n",
      "negative\n"
     ]
    }
   ],
   "source": [
    "for x_t in x_tokenized:\n",
    "    prediction = model.predict(np.array([x_t]))\n",
    "    print(prediction)\n",
    "    predicted_label = labels[np.argmax(prediction)]\n",
    "    print(predicted_label)"
   ]
  },
  {
   "cell_type": "code",
   "execution_count": null,
   "metadata": {
    "papermill": {
     "duration": 1.296731,
     "end_time": "2021-01-13T14:37:41.083979",
     "exception": false,
     "start_time": "2021-01-13T14:37:39.787248",
     "status": "completed"
    },
    "tags": []
   },
   "outputs": [],
   "source": []
  }
 ],
 "metadata": {
  "kernelspec": {
   "display_name": "Python 3",
   "language": "python",
   "name": "python3"
  },
  "language_info": {
   "codemirror_mode": {
    "name": "ipython",
    "version": 3
   },
   "file_extension": ".py",
   "mimetype": "text/x-python",
   "name": "python",
   "nbconvert_exporter": "python",
   "pygments_lexer": "ipython3",
   "version": "3.7.6"
  },
  "papermill": {
   "duration": 4665.851534,
   "end_time": "2021-01-13T14:37:42.433200",
   "environment_variables": {},
   "exception": null,
   "input_path": "__notebook__.ipynb",
   "output_path": "__notebook__.ipynb",
   "parameters": {},
   "start_time": "2021-01-13T13:19:56.581666",
   "version": "2.1.0"
  }
 },
 "nbformat": 4,
 "nbformat_minor": 4
}
